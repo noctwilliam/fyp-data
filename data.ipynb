{
 "cells": [
  {
   "cell_type": "markdown",
   "metadata": {},
   "source": [
    "## BE\n",
    "- [Kaggle](https://www.kaggle.com/datasets/walterconway/covid-flu-cold-symptoms/data)"
   ]
  },
  {
   "cell_type": "markdown",
   "metadata": {},
   "source": [
    "1. Data Preprocessing"
   ]
  },
  {
   "cell_type": "code",
   "execution_count": 1,
   "metadata": {},
   "outputs": [],
   "source": [
    "# Install the necessary library\n",
    "# %pip install pandas numpy matplotlib scikit-learn joblib\n",
    "# Import all the necessary libraries for data cleaning and machine learning algorithms (decision tree)\n",
    "import pandas as pd\n",
    "import numpy as np\n",
    "import matplotlib.pyplot as plt\n",
    "# import seaborn as sns\n",
    "from sklearn import tree\n",
    "from sklearn.tree import DecisionTreeClassifier\n",
    "from sklearn.model_selection import train_test_split\n",
    "from sklearn.metrics import confusion_matrix, classification_report, ConfusionMatrixDisplay\n",
    "import joblib as joblib"
   ]
  },
  {
   "cell_type": "markdown",
   "metadata": {},
   "source": [
    "Get rid of unnecessary rows and columns"
   ]
  },
  {
   "cell_type": "code",
   "execution_count": 2,
   "metadata": {},
   "outputs": [
    {
     "name": "stdout",
     "output_type": "stream",
     "text": [
      "Row count initially: 44453\n",
      "Row count afterwards: 25000\n"
     ]
    }
   ],
   "source": [
    "df = pd.read_csv('large_data.csv')\n",
    "print(f\"Row count initially: {df['TYPE'].count()}\")\n",
    "# Drop rows that are not type of FLU (eg. COVID-19, Cold)\n",
    "df = df[df['TYPE'] == 'FLU']\n",
    "# Reset the index of DataFrame\n",
    "df = df.reset_index(drop=True)\n",
    "# Display the data count after dropping rows\n",
    "print(f\"Row count afterwards: {df['TYPE'].count()}\")"
   ]
  },
  {
   "cell_type": "markdown",
   "metadata": {},
   "source": [
    "trimming whitespaces if theres any"
   ]
  },
  {
   "cell_type": "code",
   "execution_count": 3,
   "metadata": {},
   "outputs": [
    {
     "name": "stdout",
     "output_type": "stream",
     "text": [
      "<class 'pandas.core.frame.DataFrame'>\n",
      "RangeIndex: 25000 entries, 0 to 24999\n",
      "Data columns (total 21 columns):\n",
      " #   Column                Non-Null Count  Dtype \n",
      "---  ------                --------------  ----- \n",
      " 0   COUGH                 25000 non-null  int64 \n",
      " 1   MUSCLE_ACHES          25000 non-null  int64 \n",
      " 2   TIREDNESS             25000 non-null  int64 \n",
      " 3   SORE_THROAT           25000 non-null  int64 \n",
      " 4   RUNNY_NOSE            25000 non-null  int64 \n",
      " 5   STUFFY_NOSE           25000 non-null  int64 \n",
      " 6   FEVER                 25000 non-null  int64 \n",
      " 7   NAUSEA                25000 non-null  int64 \n",
      " 8   VOMITING              25000 non-null  int64 \n",
      " 9   DIARRHEA              25000 non-null  int64 \n",
      " 10  SHORTNESS_OF_BREATH   25000 non-null  int64 \n",
      " 11  DIFFICULTY_BREATHING  25000 non-null  int64 \n",
      " 12  LOSS_OF_TASTE         25000 non-null  int64 \n",
      " 13  LOSS_OF_SMELL         25000 non-null  int64 \n",
      " 14  ITCHY_NOSE            25000 non-null  int64 \n",
      " 15  ITCHY_EYES            25000 non-null  int64 \n",
      " 16  ITCHY_MOUTH           25000 non-null  int64 \n",
      " 17  ITCHY_INNER_EAR       25000 non-null  int64 \n",
      " 18  SNEEZING              25000 non-null  int64 \n",
      " 19  PINK_EYE              25000 non-null  int64 \n",
      " 20  TYPE                  25000 non-null  object\n",
      "dtypes: int64(20), object(1)\n",
      "memory usage: 4.0+ MB\n"
     ]
    }
   ],
   "source": [
    "# Trim the whitespaces in the column\n",
    "df.columns = df.columns.str.strip()\n",
    "df.info()"
   ]
  },
  {
   "cell_type": "markdown",
   "metadata": {},
   "source": [
    "checking missing values"
   ]
  },
  {
   "cell_type": "code",
   "execution_count": null,
   "metadata": {},
   "outputs": [],
   "source": [
    "df.isna().sum()"
   ]
  },
  {
   "cell_type": "markdown",
   "metadata": {},
   "source": [
    "counting & cleaning feature values"
   ]
  },
  {
   "cell_type": "code",
   "execution_count": 4,
   "metadata": {},
   "outputs": [
    {
     "name": "stdout",
     "output_type": "stream",
     "text": [
      "<class 'pandas.core.frame.DataFrame'>\n",
      "RangeIndex: 25000 entries, 0 to 24999\n",
      "Data columns (total 15 columns):\n",
      " #   Column                Non-Null Count  Dtype\n",
      "---  ------                --------------  -----\n",
      " 0   COUGH                 25000 non-null  int64\n",
      " 1   MUSCLE_ACHES          25000 non-null  int64\n",
      " 2   TIREDNESS             25000 non-null  int64\n",
      " 3   SORE_THROAT           25000 non-null  int64\n",
      " 4   RUNNY_NOSE            25000 non-null  int64\n",
      " 5   STUFFY_NOSE           25000 non-null  int64\n",
      " 6   FEVER                 25000 non-null  int64\n",
      " 7   NAUSEA                25000 non-null  int64\n",
      " 8   VOMITING              25000 non-null  int64\n",
      " 9   DIARRHEA              25000 non-null  int64\n",
      " 10  SHORTNESS_OF_BREATH   25000 non-null  int64\n",
      " 11  DIFFICULTY_BREATHING  25000 non-null  int64\n",
      " 12  LOSS_OF_TASTE         25000 non-null  int64\n",
      " 13  LOSS_OF_SMELL         25000 non-null  int64\n",
      " 14  SNEEZING              25000 non-null  int64\n",
      "dtypes: int64(15)\n",
      "memory usage: 2.9 MB\n"
     ]
    }
   ],
   "source": [
    "# Drop columns that are only zeros\n",
    "for col in df.columns:\n",
    "\t# If the count of the most frequent value is equal to the length of the dataframe (25k)\n",
    "\t# then drop the column\n",
    "\tif df[col].value_counts()[0] == len(df):\n",
    "\t\tdf.drop(col, axis=1, inplace=True)\n",
    "df.info()"
   ]
  },
  {
   "cell_type": "markdown",
   "metadata": {},
   "source": [
    "duplicates"
   ]
  },
  {
   "cell_type": "code",
   "execution_count": null,
   "metadata": {},
   "outputs": [],
   "source": [
    "df.duplicated().sum()\n",
    "df.duplicated().value_counts()\n",
    "# df.info()\n"
   ]
  },
  {
   "cell_type": "markdown",
   "metadata": {},
   "source": [
    "create new column to fill in severity data"
   ]
  },
  {
   "cell_type": "code",
   "execution_count": 5,
   "metadata": {},
   "outputs": [
    {
     "name": "stdout",
     "output_type": "stream",
     "text": [
      "<class 'pandas.core.frame.DataFrame'>\n",
      "RangeIndex: 25000 entries, 0 to 24999\n",
      "Data columns (total 16 columns):\n",
      " #   Column                Non-Null Count  Dtype\n",
      "---  ------                --------------  -----\n",
      " 0   COUGH                 25000 non-null  int64\n",
      " 1   MUSCLE_ACHES          25000 non-null  int64\n",
      " 2   TIREDNESS             25000 non-null  int64\n",
      " 3   SORE_THROAT           25000 non-null  int64\n",
      " 4   RUNNY_NOSE            25000 non-null  int64\n",
      " 5   STUFFY_NOSE           25000 non-null  int64\n",
      " 6   FEVER                 25000 non-null  int64\n",
      " 7   NAUSEA                25000 non-null  int64\n",
      " 8   VOMITING              25000 non-null  int64\n",
      " 9   DIARRHEA              25000 non-null  int64\n",
      " 10  SHORTNESS_OF_BREATH   25000 non-null  int64\n",
      " 11  DIFFICULTY_BREATHING  25000 non-null  int64\n",
      " 12  LOSS_OF_TASTE         25000 non-null  int64\n",
      " 13  LOSS_OF_SMELL         25000 non-null  int64\n",
      " 14  SNEEZING              25000 non-null  int64\n",
      " 15  SEVERITY              25000 non-null  int64\n",
      "dtypes: int64(16)\n",
      "memory usage: 3.1 MB\n"
     ]
    }
   ],
   "source": [
    "def classify_symptoms(row) -> int:\n",
    "    # Apply your classification rules to the row\n",
    "    if row['SHORTNESS_OF_BREATH'] == 1 or row['DIFFICULTY_BREATHING'] == 1:\n",
    "        return 1\n",
    "    else:\n",
    "        return 0\n",
    "\n",
    "# Create a new column 'SEVERITY' in the DataFrame 'df' using the 'apply()' method\n",
    "df['SEVERITY'] = df.apply(classify_symptoms, axis=1)\n",
    "df.info()\n"
   ]
  },
  {
   "cell_type": "code",
   "execution_count": null,
   "metadata": {},
   "outputs": [],
   "source": [
    "df['SEVERITY'].value_counts()\n",
    "df.head()"
   ]
  },
  {
   "cell_type": "markdown",
   "metadata": {},
   "source": [
    "save dataframe to csv"
   ]
  },
  {
   "cell_type": "code",
   "execution_count": null,
   "metadata": {},
   "outputs": [],
   "source": [
    "# save dataframe to csv file\n",
    "df.to_csv('cleaned_data.csv', index=False)"
   ]
  },
  {
   "cell_type": "markdown",
   "metadata": {},
   "source": [
    "correlation"
   ]
  },
  {
   "cell_type": "code",
   "execution_count": null,
   "metadata": {},
   "outputs": [],
   "source": [
    "# Ignore TYPE column\n",
    "df_corr = df.corr()\n",
    "df_corr\n",
    "df.info()"
   ]
  },
  {
   "cell_type": "markdown",
   "metadata": {},
   "source": [
    "Splitting and training the data (Decision Tree)"
   ]
  },
  {
   "cell_type": "code",
   "execution_count": null,
   "metadata": {},
   "outputs": [],
   "source": [
    "symptoms = [i for i in df.columns if i != 'SEVERITY']\n",
    "severity = ['SEVERITY']\n",
    "# Split the data into training and testing sets\n",
    "# 20% of the data will be used for testing\n",
    "X_train, X_test, y_train, y_test = train_test_split(df[symptoms], df[severity], test_size=0.2, random_state=42)\n",
    "\n",
    "# Create a Decision Tree Classifier object\n",
    "dt = DecisionTreeClassifier()\n",
    "\n",
    "# Train the model on the training set\n",
    "dt.fit(X_train, y_train)\n",
    "\n",
    "# Make predictions on the testing set\n",
    "y_pred = dt.predict(X_test)\n",
    "\n",
    "# create a function to evaluate the performance of the model\n",
    "def evaluate_model(y_true, y_pred):\n",
    "\t# Calculate and print confusion matrix plot\n",
    "\tdisp = ConfusionMatrixDisplay(confusion_matrix=confusion_matrix(y_true, y_pred))\n",
    "\tdisp.plot()\n",
    "\tplt.show()\n",
    "\t# Calculate and print the classification report\n",
    "\treport = classification_report(y_true, y_pred)\n",
    "\tprint(report)\n",
    "evaluate_model(y_test, y_pred)\n",
    "\n",
    "joblib.dump(dt, 'decision_tree_model.joblib')"
   ]
  },
  {
   "cell_type": "markdown",
   "metadata": {},
   "source": [
    "Consulted with SV, need to do more data preprocessing due to accuracy issues"
   ]
  },
  {
   "cell_type": "code",
   "execution_count": 28,
   "metadata": {},
   "outputs": [
    {
     "data": {
      "text/html": [
       "<div>\n",
       "<style scoped>\n",
       "    .dataframe tbody tr th:only-of-type {\n",
       "        vertical-align: middle;\n",
       "    }\n",
       "\n",
       "    .dataframe tbody tr th {\n",
       "        vertical-align: top;\n",
       "    }\n",
       "\n",
       "    .dataframe thead th {\n",
       "        text-align: right;\n",
       "    }\n",
       "</style>\n",
       "<table border=\"1\" class=\"dataframe\">\n",
       "  <thead>\n",
       "    <tr style=\"text-align: right;\">\n",
       "      <th></th>\n",
       "      <th>COUGH</th>\n",
       "      <th>MUSCLE_ACHES</th>\n",
       "      <th>TIREDNESS</th>\n",
       "      <th>SORE_THROAT</th>\n",
       "      <th>RUNNY_NOSE</th>\n",
       "      <th>STUFFY_NOSE</th>\n",
       "      <th>FEVER</th>\n",
       "      <th>NAUSEA</th>\n",
       "      <th>VOMITING</th>\n",
       "      <th>DIARRHEA</th>\n",
       "      <th>SHORTNESS_OF_BREATH</th>\n",
       "      <th>DIFFICULTY_BREATHING</th>\n",
       "      <th>LOSS_OF_TASTE</th>\n",
       "      <th>LOSS_OF_SMELL</th>\n",
       "      <th>SNEEZING</th>\n",
       "    </tr>\n",
       "  </thead>\n",
       "  <tbody>\n",
       "    <tr>\n",
       "      <th>0</th>\n",
       "      <td>1</td>\n",
       "      <td>0</td>\n",
       "      <td>0</td>\n",
       "      <td>0</td>\n",
       "      <td>1</td>\n",
       "      <td>1</td>\n",
       "      <td>1</td>\n",
       "      <td>0</td>\n",
       "      <td>0</td>\n",
       "      <td>0</td>\n",
       "      <td>1</td>\n",
       "      <td>0</td>\n",
       "      <td>0</td>\n",
       "      <td>0</td>\n",
       "      <td>0</td>\n",
       "    </tr>\n",
       "    <tr>\n",
       "      <th>1</th>\n",
       "      <td>0</td>\n",
       "      <td>1</td>\n",
       "      <td>1</td>\n",
       "      <td>1</td>\n",
       "      <td>0</td>\n",
       "      <td>0</td>\n",
       "      <td>1</td>\n",
       "      <td>0</td>\n",
       "      <td>0</td>\n",
       "      <td>0</td>\n",
       "      <td>1</td>\n",
       "      <td>0</td>\n",
       "      <td>1</td>\n",
       "      <td>0</td>\n",
       "      <td>0</td>\n",
       "    </tr>\n",
       "    <tr>\n",
       "      <th>2</th>\n",
       "      <td>0</td>\n",
       "      <td>0</td>\n",
       "      <td>0</td>\n",
       "      <td>1</td>\n",
       "      <td>1</td>\n",
       "      <td>1</td>\n",
       "      <td>0</td>\n",
       "      <td>0</td>\n",
       "      <td>0</td>\n",
       "      <td>0</td>\n",
       "      <td>1</td>\n",
       "      <td>1</td>\n",
       "      <td>1</td>\n",
       "      <td>0</td>\n",
       "      <td>0</td>\n",
       "    </tr>\n",
       "    <tr>\n",
       "      <th>3</th>\n",
       "      <td>1</td>\n",
       "      <td>0</td>\n",
       "      <td>1</td>\n",
       "      <td>0</td>\n",
       "      <td>0</td>\n",
       "      <td>1</td>\n",
       "      <td>0</td>\n",
       "      <td>1</td>\n",
       "      <td>1</td>\n",
       "      <td>0</td>\n",
       "      <td>0</td>\n",
       "      <td>0</td>\n",
       "      <td>1</td>\n",
       "      <td>0</td>\n",
       "      <td>1</td>\n",
       "    </tr>\n",
       "    <tr>\n",
       "      <th>4</th>\n",
       "      <td>1</td>\n",
       "      <td>1</td>\n",
       "      <td>1</td>\n",
       "      <td>1</td>\n",
       "      <td>1</td>\n",
       "      <td>0</td>\n",
       "      <td>1</td>\n",
       "      <td>0</td>\n",
       "      <td>0</td>\n",
       "      <td>1</td>\n",
       "      <td>1</td>\n",
       "      <td>1</td>\n",
       "      <td>0</td>\n",
       "      <td>0</td>\n",
       "      <td>0</td>\n",
       "    </tr>\n",
       "  </tbody>\n",
       "</table>\n",
       "</div>"
      ],
      "text/plain": [
       "   COUGH  MUSCLE_ACHES  TIREDNESS  SORE_THROAT  RUNNY_NOSE  STUFFY_NOSE   \n",
       "0      1             0          0            0           1            1  \\\n",
       "1      0             1          1            1           0            0   \n",
       "2      0             0          0            1           1            1   \n",
       "3      1             0          1            0           0            1   \n",
       "4      1             1          1            1           1            0   \n",
       "\n",
       "   FEVER  NAUSEA  VOMITING  DIARRHEA  SHORTNESS_OF_BREATH   \n",
       "0      1       0         0         0                    1  \\\n",
       "1      1       0         0         0                    1   \n",
       "2      0       0         0         0                    1   \n",
       "3      0       1         1         0                    0   \n",
       "4      1       0         0         1                    1   \n",
       "\n",
       "   DIFFICULTY_BREATHING  LOSS_OF_TASTE  LOSS_OF_SMELL  SNEEZING  \n",
       "0                     0              0              0         0  \n",
       "1                     0              1              0         0  \n",
       "2                     1              1              0         0  \n",
       "3                     0              1              0         1  \n",
       "4                     1              0              0         0  "
      ]
     },
     "execution_count": 28,
     "metadata": {},
     "output_type": "execute_result"
    }
   ],
   "source": [
    "df_without_target = df.drop('SEVERITY', axis=1)\n",
    "df_without_target.head()"
   ]
  },
  {
   "cell_type": "markdown",
   "metadata": {},
   "source": [
    "Do a chi square test to see if there is a correlation between the symptoms and the severity"
   ]
  },
  {
   "cell_type": "markdown",
   "metadata": {},
   "source": [
    "Box Plotting\n",
    "- used to find outliers in the form of dot over the bar plot"
   ]
  },
  {
   "cell_type": "code",
   "execution_count": 29,
   "metadata": {},
   "outputs": [
    {
     "data": {
      "image/png": "[encoded data removed]",
      "text/plain": [
       "<Figure size 640x480 with 1 Axes>"
      ]
     },
     "metadata": {},
     "output_type": "display_data"
    }
   ],
   "source": [
    "import matplotlib.pyplot as plt\n",
    "\n",
    "plt.boxplot(df_without_target)\n",
    "plt.show()"
   ]
  },
  {
   "cell_type": "markdown",
   "metadata": {},
   "source": [
    "Z-Score"
   ]
  },
  {
   "cell_type": "code",
   "execution_count": 30,
   "metadata": {},
   "outputs": [],
   "source": [
    "from scipy import stats\n",
    "\n",
    "z_scores = stats.zscore(df_without_target)\n",
    "abs_z_scores = np.abs(z_scores)\n",
    "filtered_entries = (abs_z_scores < 3).all(axis=1)\n",
    "df_without_target = df_without_target[filtered_entries]\n"
   ]
  },
  {
   "cell_type": "markdown",
   "metadata": {},
   "source": [
    "Removing outliers"
   ]
  },
  {
   "cell_type": "code",
   "execution_count": 26,
   "metadata": {},
   "outputs": [
    {
     "name": "stdout",
     "output_type": "stream",
     "text": [
      "<class 'pandas.core.frame.DataFrame'>\n",
      "RangeIndex: 25000 entries, 0 to 24999\n",
      "Data columns (total 15 columns):\n",
      " #   Column                Non-Null Count  Dtype\n",
      "---  ------                --------------  -----\n",
      " 0   COUGH                 25000 non-null  int64\n",
      " 1   MUSCLE_ACHES          25000 non-null  int64\n",
      " 2   TIREDNESS             25000 non-null  int64\n",
      " 3   SORE_THROAT           25000 non-null  int64\n",
      " 4   RUNNY_NOSE            25000 non-null  int64\n",
      " 5   STUFFY_NOSE           25000 non-null  int64\n",
      " 6   FEVER                 25000 non-null  int64\n",
      " 7   NAUSEA                25000 non-null  int64\n",
      " 8   VOMITING              25000 non-null  int64\n",
      " 9   DIARRHEA              25000 non-null  int64\n",
      " 10  SHORTNESS_OF_BREATH   25000 non-null  int64\n",
      " 11  DIFFICULTY_BREATHING  25000 non-null  int64\n",
      " 12  LOSS_OF_TASTE         25000 non-null  int64\n",
      " 13  LOSS_OF_SMELL         25000 non-null  int64\n",
      " 14  SNEEZING              25000 non-null  int64\n",
      "dtypes: int64(15)\n",
      "memory usage: 2.9 MB\n"
     ]
    }
   ],
   "source": [
    "# Remove outliers from the dataset\n",
    "# Assuming df is your DataFrame and 'column' is the column from which you want to remove outliers\n",
    "# Use interquartile range to remove outliers\n",
    "for col in df_without_target.columns:\n",
    "\tQ1 = df_without_target[col].quantile(0.25)\n",
    "\tQ3 = df_without_target[col].quantile(0.75)\n",
    "\tIQR = Q3 - Q1\n",
    "\n",
    "\tlower_bound = Q1 - 1.5 * IQR\n",
    "\tupper_bound = Q3 + 1.5 * IQR\n",
    "\n",
    "\tdf_without_outliers = df_without_target[(df_without_target[col] >= lower_bound) & (df_without_target[col] <= upper_bound)]\n",
    "df_without_outliers.info()"
   ]
  },
  {
   "cell_type": "code",
   "execution_count": 20,
   "metadata": {},
   "outputs": [
    {
     "name": "stdout",
     "output_type": "stream",
     "text": [
      "<class 'pandas.core.frame.DataFrame'>\n",
      "RangeIndex: 25000 entries, 0 to 24999\n",
      "Data columns (total 5 columns):\n",
      " #   Column                Non-Null Count  Dtype\n",
      "---  ------                --------------  -----\n",
      " 0   SHORTNESS_OF_BREATH   25000 non-null  int64\n",
      " 1   DIFFICULTY_BREATHING  25000 non-null  int64\n",
      " 2   LOSS_OF_SMELL         25000 non-null  int64\n",
      " 3   LOSS_OF_TASTE         25000 non-null  int64\n",
      " 4   MUSCLE_ACHES          25000 non-null  int64\n",
      "dtypes: int64(5)\n",
      "memory usage: 976.7 KB\n"
     ]
    },
    {
     "data": {
      "image/png": "[encoded data removed]",
      "text/plain": [
       "<Figure size 640x480 with 1 Axes>"
      ]
     },
     "metadata": {},
     "output_type": "display_data"
    }
   ],
   "source": [
    "\n",
    "# Do a chi square test to find the most important features based on their p-values\n",
    "from sklearn.feature_selection import SelectKBest\n",
    "from sklearn.feature_selection import chi2\n",
    "\n",
    "# Create a SelectKBest object to select features with top 10 highest chi square values\n",
    "best_features = SelectKBest(score_func=chi2, k=10)\n",
    "best_features.fit(df_without_target, df['SEVERITY'])\n",
    "\n",
    "chi_scores = chi2(df_without_target, df['SEVERITY'])\n",
    "p_values = pd.Series(chi_scores[1], index=df_without_target.columns)\n",
    "p_values.sort_values(ascending=True, inplace=True)\n",
    "p_values.plot.bar()\n",
    "pval = 0.05\n",
    "df_without_target = df_without_target[p_values[p_values < pval].index]\n",
    "df_without_target.info()"
   ]
  },
  {
   "cell_type": "code",
   "execution_count": 22,
   "metadata": {},
   "outputs": [
    {
     "data": {
      "image/png": "[encoded data removed]",
      "text/plain": [
       "<Figure size 640x480 with 2 Axes>"
      ]
     },
     "metadata": {},
     "output_type": "display_data"
    },
    {
     "name": "stdout",
     "output_type": "stream",
     "text": [
      "              precision    recall  f1-score   support\n",
      "\n",
      "           0       1.00      1.00      1.00      1045\n",
      "           1       1.00      1.00      1.00      3955\n",
      "\n",
      "    accuracy                           1.00      5000\n",
      "   macro avg       1.00      1.00      1.00      5000\n",
      "weighted avg       1.00      1.00      1.00      5000\n",
      "\n",
      "1.0\n",
      "Accuracy: 1.00 (+/- 0.00)\n"
     ]
    }
   ],
   "source": [
    "# Split the data into training and testing sets\n",
    "# 20% of the data will be used for testing\n",
    "from sklearn.metrics import accuracy_score\n",
    "X_train, X_test, y_train, y_test = train_test_split(df_without_target, df['SEVERITY'], test_size=0.2, random_state=42)\n",
    "\n",
    "dt = DecisionTreeClassifier()\n",
    "\n",
    "def evaluate_model(y_true, y_pred):\n",
    "\t# Calculate and print confusion matrix plot\n",
    "\tdisp = ConfusionMatrixDisplay(confusion_matrix=confusion_matrix(y_true, y_pred))\n",
    "\tdisp.plot()\n",
    "\tplt.show()\n",
    "\t# Calculate and print the classification report\n",
    "\treport = classification_report(y_true, y_pred)\n",
    "\tprint(report)\n",
    "\tprint(accuracy_score(y_test, y_pred))\n",
    "\n",
    "dt.fit(X_train, y_train)\n",
    "y_pred = dt.predict(X_test)\n",
    "evaluate_model(y_test, y_pred)\n",
    "# Measure the accuracy of the model\n",
    "\n",
    "from sklearn.model_selection import cross_val_score\n",
    "\n",
    "# Assuming clf is your decision tree model\n",
    "scores = cross_val_score(dt, df_without_target, df['SEVERITY'], cv=5)\n",
    "print(\"Accuracy: %0.2f (+/- %0.2f)\" % (scores.mean(), scores.std() * 2))"
   ]
  },
  {
   "cell_type": "markdown",
   "metadata": {},
   "source": [
    "Training the data using Random Forest Classifier"
   ]
  },
  {
   "cell_type": "code",
   "execution_count": null,
   "metadata": {},
   "outputs": [],
   "source": [
    "# Train the data using random classifier from scikit\n",
    "from sklearn.ensemble import RandomForestClassifier\n",
    "rf = RandomForestClassifier(random_state=42)\n",
    "rf.fit(X_train, y_train.values.ravel())\n",
    "y_pred = rf.predict(X_test)\n",
    "evaluate_model(y_test, y_pred)\n",
    "print(f\"Accuracy: {rf.score(X_test, y_test)}\")"
   ]
  },
  {
   "cell_type": "markdown",
   "metadata": {},
   "source": [
    "Training the data using SVM"
   ]
  },
  {
   "cell_type": "code",
   "execution_count": null,
   "metadata": {},
   "outputs": [],
   "source": [
    "# Train the data using SVM from scikit\n",
    "from sklearn.svm import SVC\n",
    "svm = SVC(random_state=42)\n",
    "svm.fit(X_train, y_train.values.ravel())\n",
    "y_pred = svm.predict(X_test)\n",
    "evaluate_model(y_test, y_pred)\n",
    "print(f\"Accuracy: {svm.score(X_test, y_test)}\")"
   ]
  },
  {
   "cell_type": "code",
   "execution_count": null,
   "metadata": {},
   "outputs": [],
   "source": [
    "# Prepare your input data\n",
    "sym = [1, 0, 1, 0, 1, 1, 0, 1, 1, 0, 0, 0, 0, 0, 0]\n",
    "my_input = pd.DataFrame([sym], columns=symptoms)\n",
    "print(my_input)\n",
    "\n",
    "# Load the trained model\n",
    "model = joblib.load('decision_tree_model.pkl')\n",
    "\n",
    "# Make predictions on the input data\n",
    "y_pred = model.predict(my_input)\n",
    "\n",
    "# # Print the predicted label\n",
    "from sklearn import metrics\n",
    "print(\"Predicted label:\", y_pred[0])"
   ]
  },
  {
   "cell_type": "markdown",
   "metadata": {},
   "source": [
    "Cross-fold validation"
   ]
  },
  {
   "cell_type": "code",
   "execution_count": null,
   "metadata": {},
   "outputs": [],
   "source": [
    "from sklearn.model_selection import cross_val_score\n",
    "\n",
    "cv_amt = 10\n",
    "# Perform 20-fold cross-validation on decision tree (dt)\n",
    "dt_scores = cross_val_score(dt, df[symptoms], df[severity], cv=cv_amt, n_jobs=-1)\n",
    "rf_scores = cross_val_score(rf, df[symptoms], df[severity].values.ravel(), cv=cv_amt, n_jobs=-1)\n",
    "svm_scores = cross_val_score(svm, df[symptoms], df[severity].values.ravel(), cv=cv_amt, n_jobs=-1)\n",
    "\n",
    "# Print the average score and standard deviation\n",
    "scores = pd.DataFrame({'ML Techniques' : ['Decision Tree', 'Random Forest', 'SVM'], 'Score' : [dt_scores.mean(), rf_scores.mean(), svm_scores.mean()], 'Standard Deviation' : [dt_scores.std(), rf_scores.std(), svm_scores.std()]})\n",
    "print(scores.sort_values(by='Score', ascending=False))"
   ]
  },
  {
   "cell_type": "markdown",
   "metadata": {},
   "source": [
    "Export the decision tree to an image"
   ]
  },
  {
   "cell_type": "code",
   "execution_count": null,
   "metadata": {},
   "outputs": [],
   "source": [
    "from sklearn.tree import export_graphviz\n",
    "import pydotplus\n",
    "from io import StringIO\n",
    "dt = joblib.load('decision_tree_model.pkl')\n",
    "\n",
    "# Export the decision tree to a DOT file\n",
    "dot_data = StringIO()\n",
    "export_graphviz(dt, out_file=dot_data, \n",
    "    feature_names=symptoms,  \n",
    "    class_names=['0', '1'], \n",
    "    special_characters=True, \n",
    "    rounded=True, \n",
    "    proportion=False,\n",
    "    filled=True)\n",
    "\n",
    "# export the decision tree to a png file\n",
    "graph = pydotplus.graph_from_dot_data(dot_data.getvalue())\n",
    "graph.write_png('decision_tree.png')\n",
    "print(df['SEVERITY'].value_counts())"
   ]
  }
 ],
 "metadata": {
  "kernelspec": {
   "display_name": "Python 3 (ipykernel)",
   "language": "python",
   "name": "python3"
  },
  "language_info": {
   "codemirror_mode": {
    "name": "ipython",
    "version": 3
   },
   "file_extension": ".py",
   "mimetype": "text/x-python",
   "name": "python",
   "nbconvert_exporter": "python",
   "pygments_lexer": "ipython3",
   "version": "3.10.7"
  }
 },
 "nbformat": 4,
 "nbformat_minor": 4
}
