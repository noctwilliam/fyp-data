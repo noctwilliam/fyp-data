{
 "cells": [
  {
   "cell_type": "markdown",
   "metadata": {},
   "source": [
    "## BE\n",
    "- [Kaggle](https://www.kaggle.com/datasets/walterconway/covid-flu-cold-symptoms/data)"
   ]
  },
  {
   "cell_type": "markdown",
   "metadata": {},
   "source": [
    "1. Data Preprocessing"
   ]
  },
  {
   "cell_type": "code",
   "execution_count": null,
   "metadata": {},
   "outputs": [],
   "source": [
    "# Import all the necessary libraries for data cleaning and machine learning algorithms (decision tree)\n",
    "import pandas as pd\n",
    "import numpy as np\n",
    "import matplotlib.pyplot as plt\n",
    "# import seaborn as sns\n",
    "from sklearn import tree\n",
    "from sklearn.tree import DecisionTreeClassifier\n",
    "from sklearn.model_selection import train_test_split\n",
    "from sklearn.metrics import confusion_matrix, classification_report, ConfusionMatrixDisplay\n",
    "import joblib as joblib"
   ]
  },
  {
   "cell_type": "code",
   "execution_count": null,
   "metadata": {},
   "outputs": [],
   "source": [
    "# df = pd.read_csv('large_flu_data.csv')\n",
    "df = pd.read_csv('large_data.csv')\n",
    "\n",
    "# Drop rows that are not type of FLU\n",
    "df = df[df['TYPE'] == 'FLU']\n",
    "df.info()"
   ]
  },
  {
   "cell_type": "markdown",
   "metadata": {},
   "source": [
    "checking missing values"
   ]
  },
  {
   "cell_type": "code",
   "execution_count": null,
   "metadata": {},
   "outputs": [],
   "source": [
    "df.isna().sum()"
   ]
  },
  {
   "cell_type": "markdown",
   "metadata": {},
   "source": [
    "counting & cleaning feature values"
   ]
  },
  {
   "cell_type": "code",
   "execution_count": null,
   "metadata": {},
   "outputs": [],
   "source": [
    "cols = df.columns\n",
    "\n",
    "for col in cols:\n",
    "\tprint(df[col].value_counts())\n",
    "\tprint(\"\")\n",
    "\n",
    "# Drop columns that are only zeros\n",
    "for col in cols:\n",
    "\t# If the count of the most frequentt value is equal to the length of the dataframe (25k), then drop the column\n",
    "\tif df[col].value_counts()[0] == len(df):\n",
    "\t\tdf.drop(col, axis=1, inplace=True)\n",
    "df.info()"
   ]
  },
  {
   "cell_type": "markdown",
   "metadata": {},
   "source": [
    "duplicates"
   ]
  },
  {
   "cell_type": "code",
   "execution_count": null,
   "metadata": {},
   "outputs": [],
   "source": [
    "df.duplicated().sum()\n",
    "df.duplicated().value_counts()\n",
    "df.info()\n",
    "\n",
    "# write all the column header to a txt file with newline delimiter\n",
    "with open('column_headers.txt', 'w') as f:\n",
    "\tfor col in df.columns:\n",
    "\t\tf.write(col + '\\n')"
   ]
  },
  {
   "cell_type": "markdown",
   "metadata": {},
   "source": [
    "create new column to fill in severity data"
   ]
  },
  {
   "cell_type": "code",
   "execution_count": null,
   "metadata": {},
   "outputs": [],
   "source": [
    "def classify_symptoms(row) -> int:\n",
    "    # Apply your classification rules to the row\n",
    "    if row['SHORTNESS_OF_BREATH'] == 1 or row['DIFFICULTY_BREATHING'] == 1:\n",
    "        return 1\n",
    "    else:\n",
    "        return 0\n",
    "\n",
    "# Create a new column 'SEVERITY' in the DataFrame 'df' using the 'apply()' method\n",
    "df['SEVERITY'] = df.apply(classify_symptoms, axis=1)\n",
    "df.info()\n"
   ]
  },
  {
   "cell_type": "code",
   "execution_count": null,
   "metadata": {},
   "outputs": [],
   "source": [
    "df['SEVERITY'].value_counts()\n",
    "df.info()"
   ]
  },
  {
   "cell_type": "markdown",
   "metadata": {},
   "source": [
    "save dataframe to csv"
   ]
  },
  {
   "cell_type": "code",
   "execution_count": null,
   "metadata": {},
   "outputs": [],
   "source": [
    "# save dataframe to csv file\n",
    "df.to_csv('cleaned_data.csv', index=False)"
   ]
  },
  {
   "cell_type": "markdown",
   "metadata": {},
   "source": [
    "correlation"
   ]
  },
  {
   "cell_type": "code",
   "execution_count": null,
   "metadata": {},
   "outputs": [],
   "source": [
    "# Ignore TYPE column\n",
    "df_corr = df.corr()\n",
    "df_corr\n",
    "df.info()"
   ]
  },
  {
   "cell_type": "markdown",
   "metadata": {},
   "source": [
    "Splitting and training the data"
   ]
  },
  {
   "cell_type": "code",
   "execution_count": null,
   "metadata": {},
   "outputs": [],
   "source": [
    "symptoms = [i for i in df.columns if i != 'SEVERITY']\n",
    "severity = ['SEVERITY']\n",
    "# Split the data into training and testing sets\n",
    "# 30% of the data will be used for testing\n",
    "X_train, X_test, y_train, y_test = train_test_split(df[symptoms], df[severity], test_size=0.2, random_state=42)\n",
    "\n",
    "# Create a Decision Tree Classifier object\n",
    "clf = DecisionTreeClassifier()\n",
    "\n",
    "# Train the model on the training set\n",
    "clf.fit(X_train, y_train)\n",
    "\n",
    "# Make predictions on the testing set\n",
    "y_pred = clf.predict(X_test)\n",
    "\n",
    "# create a function to evaluate the performance of the model\n",
    "def evaluate_model(y_true, y_pred):\n",
    "\t# Calculate and print confusion matrix plot\n",
    "\tdisp = ConfusionMatrixDisplay(confusion_matrix=confusion_matrix(y_true, y_pred))\n",
    "\tdisp.plot()\n",
    "\tplt.show()\n",
    "\t# Calculate and print the classification report\n",
    "\treport = classification_report(y_true, y_pred)\n",
    "\tprint(report)\n",
    "evaluate_model(y_test, y_pred)\n",
    "\n",
    "joblib.dump(clf, 'decision_tree_model.pkl')"
   ]
  },
  {
   "cell_type": "code",
   "execution_count": null,
   "metadata": {},
   "outputs": [],
   "source": [
    "# # Prepare your input data\n",
    "# my_input = pd.DataFrame([[1, 0, 1, 0, 0, 1, 0, 1, 0, 0, 0, 1, 0, 0, 0]], columns=symptoms)\n",
    "\n",
    "# # Load the trained model\n",
    "# model = joblib.load('decision_tree_model.pkl')\n",
    "\n",
    "# # Make predictions on the input data\n",
    "# y_pred = model.predict(my_input)\n",
    "\n",
    "# # Print the predicted label\n",
    "from sklearn import metrics\n",
    "print(\"Predicted label:\", y_pred[0])\n",
    "print(\"Accuracy: \", metrics.accuracy_score(y_test, y_pred))"
   ]
  },
  {
   "cell_type": "code",
   "execution_count": null,
   "metadata": {},
   "outputs": [],
   "source": [
    "from sklearn.model_selection import cross_val_score\n",
    "\n",
    "# Perform 10-fold cross-validation\n",
    "scores = cross_val_score(clf, df[symptoms], df[severity], cv=10)\n",
    "\n",
    "# Print the average score and standard deviation\n",
    "print(\"Accuracy: %0.2f (+/- %0.2f)\" % (scores.mean(), scores.std() * 2))"
   ]
  },
  {
   "cell_type": "code",
   "execution_count": null,
   "metadata": {},
   "outputs": [],
   "source": [
    "from sklearn.model_selection import train_test_split\n",
    "\n",
    "# Split the data into training, validation, and test sets\n",
    "X_trainval, X_test, y_trainval, y_test = train_test_split(df[symptoms], df[severity], test_size=0.2, random_state=42)\n",
    "X_train, X_val, y_train, y_val = train_test_split(X_trainval, y_trainval, test_size=0.25, random_state=42)\n",
    "\n",
    "# Train the model on the training set\n",
    "clf.fit(X_train, y_train)\n",
    "\n",
    "# Evaluate the model on the validation set\n",
    "val_score = clf.score(X_val, y_val)\n",
    "\n",
    "# Evaluate the model on the test set\n",
    "test_score = clf.score(X_test, y_test)\n",
    "\n",
    "# Print the validation and test scores\n",
    "print(\"Validation score: %0.2f\" % val_score)\n",
    "print(\"Test score: %0.2f\" % test_score)"
   ]
  },
  {
   "cell_type": "code",
   "execution_count": null,
   "metadata": {},
   "outputs": [],
   "source": [
    "from sklearn.tree import export_graphviz\n",
    "import pydotplus\n",
    "from io import StringIO\n",
    "clf = joblib.load('decision_tree_model.pkl')\n",
    "\n",
    "# Export the decision tree to a DOT file\n",
    "dot_data = StringIO()\n",
    "export_graphviz(clf, out_file=dot_data, \n",
    "    feature_names=symptoms,  \n",
    "    class_names=['0','1'], \n",
    "    special_characters=True, \n",
    "    rounded=True, \n",
    "    proportion=False,\n",
    "    filled=True)\n",
    "\n",
    "# export the decision tree to a png file\n",
    "graph = pydotplus.graph_from_dot_data(dot_data.getvalue())\n",
    "graph.write_png('decision_tree.png')\n",
    "df.head()\n"
   ]
  }
 ],
 "metadata": {
  "kernelspec": {
   "display_name": "Python 3",
   "language": "python",
   "name": "python3"
  },
  "language_info": {
   "codemirror_mode": {
    "name": "ipython",
    "version": 3
   },
   "file_extension": ".py",
   "mimetype": "text/x-python",
   "name": "python",
   "nbconvert_exporter": "python",
   "pygments_lexer": "ipython3",
   "version": "3.10.7"
  },
  "orig_nbformat": 4
 },
 "nbformat": 4,
 "nbformat_minor": 2
}
