{
 "cells": [
  {
   "cell_type": "markdown",
   "metadata": {},
   "source": [
    "## BE\n",
    "- [Kaggle](https://www.kaggle.com/datasets/walterconway/covid-flu-cold-symptoms/data)"
   ]
  },
  {
   "cell_type": "markdown",
   "metadata": {},
   "source": [
    "1. Data Preprocessing"
   ]
  },
  {
   "cell_type": "code",
   "execution_count": 1,
   "metadata": {},
   "outputs": [],
   "source": [
    "# Import all the necessary libraries for data cleaning and machine learning algorithms (decision tree)\n",
    "import pandas as pd\n",
    "import numpy as np\n",
    "import matplotlib.pyplot as plt\n",
    "# import seaborn as sns\n",
    "from sklearn import tree\n",
    "from sklearn.tree import DecisionTreeClassifier\n",
    "from sklearn.model_selection import train_test_split\n",
    "from sklearn.metrics import confusion_matrix, classification_report, ConfusionMatrixDisplay\n",
    "import joblib as joblib"
   ]
  },
  {
   "cell_type": "code",
   "execution_count": 2,
   "metadata": {},
   "outputs": [
    {
     "name": "stdout",
     "output_type": "stream",
     "text": [
      "<class 'pandas.core.frame.DataFrame'>\n",
      "Index: 25000 entries, 19453 to 44452\n",
      "Data columns (total 21 columns):\n",
      " #   Column                Non-Null Count  Dtype \n",
      "---  ------                --------------  ----- \n",
      " 0   COUGH                 25000 non-null  int64 \n",
      " 1   MUSCLE_ACHES          25000 non-null  int64 \n",
      " 2   TIREDNESS             25000 non-null  int64 \n",
      " 3   SORE_THROAT           25000 non-null  int64 \n",
      " 4   RUNNY_NOSE            25000 non-null  int64 \n",
      " 5   STUFFY_NOSE           25000 non-null  int64 \n",
      " 6   FEVER                 25000 non-null  int64 \n",
      " 7   NAUSEA                25000 non-null  int64 \n",
      " 8   VOMITING              25000 non-null  int64 \n",
      " 9   DIARRHEA              25000 non-null  int64 \n",
      " 10  SHORTNESS_OF_BREATH   25000 non-null  int64 \n",
      " 11  DIFFICULTY_BREATHING  25000 non-null  int64 \n",
      " 12  LOSS_OF_TASTE         25000 non-null  int64 \n",
      " 13  LOSS_OF_SMELL         25000 non-null  int64 \n",
      " 14  ITCHY_NOSE            25000 non-null  int64 \n",
      " 15  ITCHY_EYES            25000 non-null  int64 \n",
      " 16  ITCHY_MOUTH           25000 non-null  int64 \n",
      " 17  ITCHY_INNER_EAR       25000 non-null  int64 \n",
      " 18  SNEEZING              25000 non-null  int64 \n",
      " 19  PINK_EYE              25000 non-null  int64 \n",
      " 20  TYPE                  25000 non-null  object\n",
      "dtypes: int64(20), object(1)\n",
      "memory usage: 4.2+ MB\n"
     ]
    }
   ],
   "source": [
    "# df = pd.read_csv('large_flu_data.csv')\n",
    "df = pd.read_csv('large_data.csv')\n",
    "\n",
    "# Drop rows that are not type of FLU\n",
    "df = df[df['TYPE'] == 'FLU']\n",
    "df.info()"
   ]
  },
  {
   "cell_type": "markdown",
   "metadata": {},
   "source": [
    "checking missing values"
   ]
  },
  {
   "cell_type": "code",
   "execution_count": 3,
   "metadata": {},
   "outputs": [
    {
     "data": {
      "text/plain": [
       "COUGH                   0\n",
       "MUSCLE_ACHES            0\n",
       "TIREDNESS               0\n",
       "SORE_THROAT             0\n",
       "RUNNY_NOSE              0\n",
       "STUFFY_NOSE             0\n",
       "FEVER                   0\n",
       "NAUSEA                  0\n",
       "VOMITING                0\n",
       "DIARRHEA                0\n",
       "SHORTNESS_OF_BREATH     0\n",
       "DIFFICULTY_BREATHING    0\n",
       "LOSS_OF_TASTE           0\n",
       "LOSS_OF_SMELL           0\n",
       "ITCHY_NOSE              0\n",
       "ITCHY_EYES              0\n",
       "ITCHY_MOUTH             0\n",
       "ITCHY_INNER_EAR         0\n",
       "SNEEZING                0\n",
       "PINK_EYE                0\n",
       "TYPE                    0\n",
       "dtype: int64"
      ]
     },
     "execution_count": 3,
     "metadata": {},
     "output_type": "execute_result"
    }
   ],
   "source": [
    "df.isna().sum()"
   ]
  },
  {
   "cell_type": "markdown",
   "metadata": {},
   "source": [
    "counting & cleaning feature values"
   ]
  },
  {
   "cell_type": "code",
   "execution_count": 4,
   "metadata": {},
   "outputs": [
    {
     "name": "stdout",
     "output_type": "stream",
     "text": [
      "COUGH\n",
      "1    13418\n",
      "0    11582\n",
      "Name: count, dtype: int64\n",
      "\n",
      "MUSCLE_ACHES\n",
      "1    13378\n",
      "0    11622\n",
      "Name: count, dtype: int64\n",
      "\n",
      "TIREDNESS\n",
      "1    13385\n",
      "0    11615\n",
      "Name: count, dtype: int64\n",
      "\n",
      "SORE_THROAT\n",
      "1    13362\n",
      "0    11638\n",
      "Name: count, dtype: int64\n",
      "\n",
      "RUNNY_NOSE\n",
      "1    13355\n",
      "0    11645\n",
      "Name: count, dtype: int64\n",
      "\n",
      "STUFFY_NOSE\n",
      "1    13338\n",
      "0    11662\n",
      "Name: count, dtype: int64\n",
      "\n",
      "FEVER\n",
      "1    12929\n",
      "0    12071\n",
      "Name: count, dtype: int64\n",
      "\n",
      "NAUSEA\n",
      "1    13390\n",
      "0    11610\n",
      "Name: count, dtype: int64\n",
      "\n",
      "VOMITING\n",
      "1    13402\n",
      "0    11598\n",
      "Name: count, dtype: int64\n",
      "\n",
      "DIARRHEA\n",
      "1    13355\n",
      "0    11645\n",
      "Name: count, dtype: int64\n",
      "\n",
      "SHORTNESS_OF_BREATH\n",
      "1    13374\n",
      "0    11626\n",
      "Name: count, dtype: int64\n",
      "\n",
      "DIFFICULTY_BREATHING\n",
      "1    13399\n",
      "0    11601\n",
      "Name: count, dtype: int64\n",
      "\n",
      "LOSS_OF_TASTE\n",
      "0    14900\n",
      "1    10100\n",
      "Name: count, dtype: int64\n",
      "\n",
      "LOSS_OF_SMELL\n",
      "0    14888\n",
      "1    10112\n",
      "Name: count, dtype: int64\n",
      "\n",
      "ITCHY_NOSE\n",
      "0    25000\n",
      "Name: count, dtype: int64\n",
      "\n",
      "ITCHY_EYES\n",
      "0    25000\n",
      "Name: count, dtype: int64\n",
      "\n",
      "ITCHY_MOUTH\n",
      "0    25000\n",
      "Name: count, dtype: int64\n",
      "\n",
      "ITCHY_INNER_EAR\n",
      "0    25000\n",
      "Name: count, dtype: int64\n",
      "\n",
      "SNEEZING\n",
      "1    13358\n",
      "0    11642\n",
      "Name: count, dtype: int64\n",
      "\n",
      "PINK_EYE\n",
      "0    25000\n",
      "Name: count, dtype: int64\n",
      "\n",
      "TYPE\n",
      "FLU    25000\n",
      "Name: count, dtype: int64\n",
      "\n",
      "<class 'pandas.core.frame.DataFrame'>\n",
      "Index: 25000 entries, 19453 to 44452\n",
      "Data columns (total 15 columns):\n",
      " #   Column                Non-Null Count  Dtype\n",
      "---  ------                --------------  -----\n",
      " 0   COUGH                 25000 non-null  int64\n",
      " 1   MUSCLE_ACHES          25000 non-null  int64\n",
      " 2   TIREDNESS             25000 non-null  int64\n",
      " 3   SORE_THROAT           25000 non-null  int64\n",
      " 4   RUNNY_NOSE            25000 non-null  int64\n",
      " 5   STUFFY_NOSE           25000 non-null  int64\n",
      " 6   FEVER                 25000 non-null  int64\n",
      " 7   NAUSEA                25000 non-null  int64\n",
      " 8   VOMITING              25000 non-null  int64\n",
      " 9   DIARRHEA              25000 non-null  int64\n",
      " 10  SHORTNESS_OF_BREATH   25000 non-null  int64\n",
      " 11  DIFFICULTY_BREATHING  25000 non-null  int64\n",
      " 12  LOSS_OF_TASTE         25000 non-null  int64\n",
      " 13  LOSS_OF_SMELL         25000 non-null  int64\n",
      " 14  SNEEZING              25000 non-null  int64\n",
      "dtypes: int64(15)\n",
      "memory usage: 3.1 MB\n"
     ]
    }
   ],
   "source": [
    "cols = df.columns\n",
    "\n",
    "for col in cols:\n",
    "\tprint(df[col].value_counts())\n",
    "\tprint(\"\")\n",
    "\n",
    "# Drop columns that are only zeros\n",
    "for col in cols:\n",
    "\t# If the count of the most frequentt value is equal to the length of the dataframe (25k), then drop the column\n",
    "\tif df[col].value_counts()[0] == len(df):\n",
    "\t\tdf.drop(col, axis=1, inplace=True)\n",
    "df.info()"
   ]
  },
  {
   "cell_type": "markdown",
   "metadata": {},
   "source": [
    "duplicates"
   ]
  },
  {
   "cell_type": "code",
   "execution_count": 5,
   "metadata": {},
   "outputs": [
    {
     "name": "stdout",
     "output_type": "stream",
     "text": [
      "<class 'pandas.core.frame.DataFrame'>\n",
      "Index: 25000 entries, 19453 to 44452\n",
      "Data columns (total 15 columns):\n",
      " #   Column                Non-Null Count  Dtype\n",
      "---  ------                --------------  -----\n",
      " 0   COUGH                 25000 non-null  int64\n",
      " 1   MUSCLE_ACHES          25000 non-null  int64\n",
      " 2   TIREDNESS             25000 non-null  int64\n",
      " 3   SORE_THROAT           25000 non-null  int64\n",
      " 4   RUNNY_NOSE            25000 non-null  int64\n",
      " 5   STUFFY_NOSE           25000 non-null  int64\n",
      " 6   FEVER                 25000 non-null  int64\n",
      " 7   NAUSEA                25000 non-null  int64\n",
      " 8   VOMITING              25000 non-null  int64\n",
      " 9   DIARRHEA              25000 non-null  int64\n",
      " 10  SHORTNESS_OF_BREATH   25000 non-null  int64\n",
      " 11  DIFFICULTY_BREATHING  25000 non-null  int64\n",
      " 12  LOSS_OF_TASTE         25000 non-null  int64\n",
      " 13  LOSS_OF_SMELL         25000 non-null  int64\n",
      " 14  SNEEZING              25000 non-null  int64\n",
      "dtypes: int64(15)\n",
      "memory usage: 3.1 MB\n"
     ]
    }
   ],
   "source": [
    "df.duplicated().sum()\n",
    "df.duplicated().value_counts()\n",
    "df.info()\n",
    "\n",
    "# write all the column header to a txt file with newline delimiter\n",
    "with open('column_headers.txt', 'w') as f:\n",
    "\tfor col in df.columns:\n",
    "\t\tf.write(col + '\\n')"
   ]
  },
  {
   "cell_type": "markdown",
   "metadata": {},
   "source": [
    "create new column to fill in severity data"
   ]
  },
  {
   "cell_type": "code",
   "execution_count": 6,
   "metadata": {},
   "outputs": [
    {
     "name": "stdout",
     "output_type": "stream",
     "text": [
      "<class 'pandas.core.frame.DataFrame'>\n",
      "Index: 25000 entries, 19453 to 44452\n",
      "Data columns (total 16 columns):\n",
      " #   Column                Non-Null Count  Dtype\n",
      "---  ------                --------------  -----\n",
      " 0   COUGH                 25000 non-null  int64\n",
      " 1   MUSCLE_ACHES          25000 non-null  int64\n",
      " 2   TIREDNESS             25000 non-null  int64\n",
      " 3   SORE_THROAT           25000 non-null  int64\n",
      " 4   RUNNY_NOSE            25000 non-null  int64\n",
      " 5   STUFFY_NOSE           25000 non-null  int64\n",
      " 6   FEVER                 25000 non-null  int64\n",
      " 7   NAUSEA                25000 non-null  int64\n",
      " 8   VOMITING              25000 non-null  int64\n",
      " 9   DIARRHEA              25000 non-null  int64\n",
      " 10  SHORTNESS_OF_BREATH   25000 non-null  int64\n",
      " 11  DIFFICULTY_BREATHING  25000 non-null  int64\n",
      " 12  LOSS_OF_TASTE         25000 non-null  int64\n",
      " 13  LOSS_OF_SMELL         25000 non-null  int64\n",
      " 14  SNEEZING              25000 non-null  int64\n",
      " 15  SEVERITY              25000 non-null  int64\n",
      "dtypes: int64(16)\n",
      "memory usage: 3.2 MB\n"
     ]
    }
   ],
   "source": [
    "def classify_symptoms(row) -> int:\n",
    "    # Apply your classification rules to the row\n",
    "    if row['SHORTNESS_OF_BREATH'] == 1 or row['DIFFICULTY_BREATHING'] == 1:\n",
    "        return 1\n",
    "    else:\n",
    "        return 0\n",
    "\n",
    "# Create a new column 'SEVERITY' in the DataFrame 'df' using the 'apply()' method\n",
    "df['SEVERITY'] = df.apply(classify_symptoms, axis=1)\n",
    "df.info()\n"
   ]
  },
  {
   "cell_type": "code",
   "execution_count": 7,
   "metadata": {},
   "outputs": [
    {
     "name": "stdout",
     "output_type": "stream",
     "text": [
      "<class 'pandas.core.frame.DataFrame'>\n",
      "Index: 25000 entries, 19453 to 44452\n",
      "Data columns (total 16 columns):\n",
      " #   Column                Non-Null Count  Dtype\n",
      "---  ------                --------------  -----\n",
      " 0   COUGH                 25000 non-null  int64\n",
      " 1   MUSCLE_ACHES          25000 non-null  int64\n",
      " 2   TIREDNESS             25000 non-null  int64\n",
      " 3   SORE_THROAT           25000 non-null  int64\n",
      " 4   RUNNY_NOSE            25000 non-null  int64\n",
      " 5   STUFFY_NOSE           25000 non-null  int64\n",
      " 6   FEVER                 25000 non-null  int64\n",
      " 7   NAUSEA                25000 non-null  int64\n",
      " 8   VOMITING              25000 non-null  int64\n",
      " 9   DIARRHEA              25000 non-null  int64\n",
      " 10  SHORTNESS_OF_BREATH   25000 non-null  int64\n",
      " 11  DIFFICULTY_BREATHING  25000 non-null  int64\n",
      " 12  LOSS_OF_TASTE         25000 non-null  int64\n",
      " 13  LOSS_OF_SMELL         25000 non-null  int64\n",
      " 14  SNEEZING              25000 non-null  int64\n",
      " 15  SEVERITY              25000 non-null  int64\n",
      "dtypes: int64(16)\n",
      "memory usage: 3.2 MB\n"
     ]
    }
   ],
   "source": [
    "df['SEVERITY'].value_counts()\n",
    "df.info()"
   ]
  },
  {
   "cell_type": "markdown",
   "metadata": {},
   "source": [
    "save dataframe to csv"
   ]
  },
  {
   "cell_type": "code",
   "execution_count": 8,
   "metadata": {},
   "outputs": [],
   "source": [
    "# save dataframe to csv file\n",
    "df.to_csv('cleaned_data.csv', index=False)"
   ]
  },
  {
   "cell_type": "markdown",
   "metadata": {},
   "source": [
    "correlation"
   ]
  },
  {
   "cell_type": "code",
   "execution_count": 9,
   "metadata": {},
   "outputs": [
    {
     "name": "stdout",
     "output_type": "stream",
     "text": [
      "<class 'pandas.core.frame.DataFrame'>\n",
      "Index: 25000 entries, 19453 to 44452\n",
      "Data columns (total 16 columns):\n",
      " #   Column                Non-Null Count  Dtype\n",
      "---  ------                --------------  -----\n",
      " 0   COUGH                 25000 non-null  int64\n",
      " 1   MUSCLE_ACHES          25000 non-null  int64\n",
      " 2   TIREDNESS             25000 non-null  int64\n",
      " 3   SORE_THROAT           25000 non-null  int64\n",
      " 4   RUNNY_NOSE            25000 non-null  int64\n",
      " 5   STUFFY_NOSE           25000 non-null  int64\n",
      " 6   FEVER                 25000 non-null  int64\n",
      " 7   NAUSEA                25000 non-null  int64\n",
      " 8   VOMITING              25000 non-null  int64\n",
      " 9   DIARRHEA              25000 non-null  int64\n",
      " 10  SHORTNESS_OF_BREATH   25000 non-null  int64\n",
      " 11  DIFFICULTY_BREATHING  25000 non-null  int64\n",
      " 12  LOSS_OF_TASTE         25000 non-null  int64\n",
      " 13  LOSS_OF_SMELL         25000 non-null  int64\n",
      " 14  SNEEZING              25000 non-null  int64\n",
      " 15  SEVERITY              25000 non-null  int64\n",
      "dtypes: int64(16)\n",
      "memory usage: 3.2 MB\n"
     ]
    }
   ],
   "source": [
    "# Ignore TYPE column\n",
    "df_corr = df.corr()\n",
    "df_corr\n",
    "df.info()"
   ]
  },
  {
   "cell_type": "markdown",
   "metadata": {},
   "source": [
    "Splitting and training the data (Decision Tree)"
   ]
  },
  {
   "cell_type": "code",
   "execution_count": 10,
   "metadata": {},
   "outputs": [
    {
     "data": {
      "image/png": "[encoded data removed]",
      "text/plain": [
       "<Figure size 640x480 with 2 Axes>"
      ]
     },
     "metadata": {},
     "output_type": "display_data"
    },
    {
     "name": "stdout",
     "output_type": "stream",
     "text": [
      "              precision    recall  f1-score   support\n",
      "\n",
      "           0       1.00      1.00      1.00      1045\n",
      "           1       1.00      1.00      1.00      3955\n",
      "\n",
      "    accuracy                           1.00      5000\n",
      "   macro avg       1.00      1.00      1.00      5000\n",
      "weighted avg       1.00      1.00      1.00      5000\n",
      "\n"
     ]
    },
    {
     "data": {
      "text/plain": [
       "['decision_tree_model.pkl']"
      ]
     },
     "execution_count": 10,
     "metadata": {},
     "output_type": "execute_result"
    }
   ],
   "source": [
    "symptoms = [i for i in df.columns if i != 'SEVERITY']\n",
    "severity = ['SEVERITY']\n",
    "# Split the data into training and testing sets\n",
    "# 30% of the data will be used for testing\n",
    "X_train, X_test, y_train, y_test = train_test_split(df[symptoms], df[severity], test_size=0.2, random_state=42)\n",
    "\n",
    "# Create a Decision Tree Classifier object\n",
    "dt = DecisionTreeClassifier()\n",
    "\n",
    "# Train the model on the training set\n",
    "dt.fit(X_train, y_train)\n",
    "\n",
    "# Make predictions on the testing set\n",
    "y_pred = dt.predict(X_test)\n",
    "\n",
    "# create a function to evaluate the performance of the model\n",
    "def evaluate_model(y_true, y_pred):\n",
    "\t# Calculate and print confusion matrix plot\n",
    "\tdisp = ConfusionMatrixDisplay(confusion_matrix=confusion_matrix(y_true, y_pred))\n",
    "\tdisp.plot()\n",
    "\tplt.show()\n",
    "\t# Calculate and print the classification report\n",
    "\treport = classification_report(y_true, y_pred)\n",
    "\tprint(report)\n",
    "evaluate_model(y_test, y_pred)\n",
    "\n",
    "joblib.dump(dt, 'decision_tree_model.pkl')"
   ]
  },
  {
   "cell_type": "markdown",
   "metadata": {},
   "source": [
    "Training the data using Random Forest Classifier"
   ]
  },
  {
   "cell_type": "code",
   "execution_count": 11,
   "metadata": {},
   "outputs": [
    {
     "data": {
      "image/png": "[encoded data removed]",
      "text/plain": [
       "<Figure size 640x480 with 2 Axes>"
      ]
     },
     "metadata": {},
     "output_type": "display_data"
    },
    {
     "name": "stdout",
     "output_type": "stream",
     "text": [
      "              precision    recall  f1-score   support\n",
      "\n",
      "           0       1.00      1.00      1.00      1045\n",
      "           1       1.00      1.00      1.00      3955\n",
      "\n",
      "    accuracy                           1.00      5000\n",
      "   macro avg       1.00      1.00      1.00      5000\n",
      "weighted avg       1.00      1.00      1.00      5000\n",
      "\n",
      "Accuracy: 1.0\n"
     ]
    }
   ],
   "source": [
    "# Train the data using random classifier from scikit\n",
    "from sklearn.ensemble import RandomForestClassifier\n",
    "rf = RandomForestClassifier(random_state=42)\n",
    "rf.fit(X_train, y_train.values.ravel())\n",
    "y_pred = rf.predict(X_test)\n",
    "evaluate_model(y_test, y_pred)\n",
    "print(f\"Accuracy: {rf.score(X_test, y_test)}\")"
   ]
  },
  {
   "cell_type": "markdown",
   "metadata": {},
   "source": [
    "Training the data using SVM"
   ]
  },
  {
   "cell_type": "code",
   "execution_count": 12,
   "metadata": {},
   "outputs": [
    {
     "data": {
      "image/png": "[encoded data removed]",
      "text/plain": [
       "<Figure size 640x480 with 2 Axes>"
      ]
     },
     "metadata": {},
     "output_type": "display_data"
    },
    {
     "name": "stdout",
     "output_type": "stream",
     "text": [
      "              precision    recall  f1-score   support\n",
      "\n",
      "           0       1.00      1.00      1.00      1045\n",
      "           1       1.00      1.00      1.00      3955\n",
      "\n",
      "    accuracy                           1.00      5000\n",
      "   macro avg       1.00      1.00      1.00      5000\n",
      "weighted avg       1.00      1.00      1.00      5000\n",
      "\n",
      "Accuracy: 1.0\n"
     ]
    }
   ],
   "source": [
    "# Train the data using SVM from scikit\n",
    "from sklearn.svm import SVC\n",
    "svm = SVC(random_state=42)\n",
    "svm.fit(X_train, y_train.values.ravel())\n",
    "y_pred = svm.predict(X_test)\n",
    "evaluate_model(y_test, y_pred)\n",
    "print(f\"Accuracy: {svm.score(X_test, y_test)}\")"
   ]
  },
  {
   "cell_type": "code",
   "execution_count": 13,
   "metadata": {},
   "outputs": [
    {
     "name": "stdout",
     "output_type": "stream",
     "text": [
      "Predicted label: 1\n",
      "Accuracy:  1.0\n"
     ]
    }
   ],
   "source": [
    "# # Prepare your input data\n",
    "# my_input = pd.DataFrame([[1, 0, 1, 0, 0, 1, 0, 1, 0, 0, 0, 1, 0, 0, 0]], columns=symptoms)\n",
    "\n",
    "# # Load the trained model\n",
    "# model = joblib.load('decision_tree_model.pkl')\n",
    "\n",
    "# # Make predictions on the input data\n",
    "# y_pred = model.predict(my_input)\n",
    "\n",
    "# # Print the predicted label\n",
    "from sklearn import metrics\n",
    "print(\"Predicted label:\", y_pred[0])\n",
    "print(\"Accuracy: \", metrics.accuracy_score(y_test, y_pred))"
   ]
  },
  {
   "cell_type": "markdown",
   "metadata": {},
   "source": [
    "Cross-fold validation"
   ]
  },
  {
   "cell_type": "code",
   "execution_count": 14,
   "metadata": {},
   "outputs": [
    {
     "name": "stdout",
     "output_type": "stream",
     "text": [
      "      Techniques  Score  Standard Deviation\n",
      "0  Decision Tree    1.0                 0.0\n",
      "1  Random Forest    1.0                 0.0\n",
      "2            SVM    1.0                 0.0\n"
     ]
    }
   ],
   "source": [
    "from sklearn.model_selection import cross_val_score\n",
    "\n",
    "cv_amt = 10\n",
    "# Perform 20-fold cross-validation on decision tree (dt)\n",
    "dt_scores = cross_val_score(dt, df[symptoms], df[severity], cv=cv_amt)\n",
    "rf_scores = cross_val_score(rf, df[symptoms], df[severity].values.ravel(), cv=cv_amt)\n",
    "svm_scores = cross_val_score(svm, df[symptoms], df[severity].values.ravel(), cv=cv_amt)\n",
    "\n",
    "# Print the average score and standard deviation\n",
    "scores = pd.DataFrame({'ML Techniques' : ['Decision Tree', 'Random Forest', 'SVM'], 'Score' : [dt_scores.mean(), rf_scores.mean(), svm_scores.mean()], 'Standard Deviation' : [dt_scores.std(), rf_scores.std(), svm_scores.std()]})\n",
    "print(scores.sort_values(by='Score', ascending=False))"
   ]
  },
  {
   "cell_type": "markdown",
   "metadata": {},
   "source": [
    "Export the decision tree to an image"
   ]
  },
  {
   "cell_type": "code",
   "execution_count": 15,
   "metadata": {},
   "outputs": [
    {
     "data": {
      "text/html": [
       "<div>\n",
       "<style scoped>\n",
       "    .dataframe tbody tr th:only-of-type {\n",
       "        vertical-align: middle;\n",
       "    }\n",
       "\n",
       "    .dataframe tbody tr th {\n",
       "        vertical-align: top;\n",
       "    }\n",
       "\n",
       "    .dataframe thead th {\n",
       "        text-align: right;\n",
       "    }\n",
       "</style>\n",
       "<table border=\"1\" class=\"dataframe\">\n",
       "  <thead>\n",
       "    <tr style=\"text-align: right;\">\n",
       "      <th></th>\n",
       "      <th>COUGH</th>\n",
       "      <th>MUSCLE_ACHES</th>\n",
       "      <th>TIREDNESS</th>\n",
       "      <th>SORE_THROAT</th>\n",
       "      <th>RUNNY_NOSE</th>\n",
       "      <th>STUFFY_NOSE</th>\n",
       "      <th>FEVER</th>\n",
       "      <th>NAUSEA</th>\n",
       "      <th>VOMITING</th>\n",
       "      <th>DIARRHEA</th>\n",
       "      <th>SHORTNESS_OF_BREATH</th>\n",
       "      <th>DIFFICULTY_BREATHING</th>\n",
       "      <th>LOSS_OF_TASTE</th>\n",
       "      <th>LOSS_OF_SMELL</th>\n",
       "      <th>SNEEZING</th>\n",
       "      <th>SEVERITY</th>\n",
       "    </tr>\n",
       "  </thead>\n",
       "  <tbody>\n",
       "    <tr>\n",
       "      <th>19453</th>\n",
       "      <td>1</td>\n",
       "      <td>0</td>\n",
       "      <td>0</td>\n",
       "      <td>0</td>\n",
       "      <td>1</td>\n",
       "      <td>1</td>\n",
       "      <td>1</td>\n",
       "      <td>0</td>\n",
       "      <td>0</td>\n",
       "      <td>0</td>\n",
       "      <td>1</td>\n",
       "      <td>0</td>\n",
       "      <td>0</td>\n",
       "      <td>0</td>\n",
       "      <td>0</td>\n",
       "      <td>1</td>\n",
       "    </tr>\n",
       "    <tr>\n",
       "      <th>19454</th>\n",
       "      <td>0</td>\n",
       "      <td>1</td>\n",
       "      <td>1</td>\n",
       "      <td>1</td>\n",
       "      <td>0</td>\n",
       "      <td>0</td>\n",
       "      <td>1</td>\n",
       "      <td>0</td>\n",
       "      <td>0</td>\n",
       "      <td>0</td>\n",
       "      <td>1</td>\n",
       "      <td>0</td>\n",
       "      <td>1</td>\n",
       "      <td>0</td>\n",
       "      <td>0</td>\n",
       "      <td>1</td>\n",
       "    </tr>\n",
       "    <tr>\n",
       "      <th>19455</th>\n",
       "      <td>0</td>\n",
       "      <td>0</td>\n",
       "      <td>0</td>\n",
       "      <td>1</td>\n",
       "      <td>1</td>\n",
       "      <td>1</td>\n",
       "      <td>0</td>\n",
       "      <td>0</td>\n",
       "      <td>0</td>\n",
       "      <td>0</td>\n",
       "      <td>1</td>\n",
       "      <td>1</td>\n",
       "      <td>1</td>\n",
       "      <td>0</td>\n",
       "      <td>0</td>\n",
       "      <td>1</td>\n",
       "    </tr>\n",
       "    <tr>\n",
       "      <th>19456</th>\n",
       "      <td>1</td>\n",
       "      <td>0</td>\n",
       "      <td>1</td>\n",
       "      <td>0</td>\n",
       "      <td>0</td>\n",
       "      <td>1</td>\n",
       "      <td>0</td>\n",
       "      <td>1</td>\n",
       "      <td>1</td>\n",
       "      <td>0</td>\n",
       "      <td>0</td>\n",
       "      <td>0</td>\n",
       "      <td>1</td>\n",
       "      <td>0</td>\n",
       "      <td>1</td>\n",
       "      <td>0</td>\n",
       "    </tr>\n",
       "    <tr>\n",
       "      <th>19457</th>\n",
       "      <td>1</td>\n",
       "      <td>1</td>\n",
       "      <td>1</td>\n",
       "      <td>1</td>\n",
       "      <td>1</td>\n",
       "      <td>0</td>\n",
       "      <td>1</td>\n",
       "      <td>0</td>\n",
       "      <td>0</td>\n",
       "      <td>1</td>\n",
       "      <td>1</td>\n",
       "      <td>1</td>\n",
       "      <td>0</td>\n",
       "      <td>0</td>\n",
       "      <td>0</td>\n",
       "      <td>1</td>\n",
       "    </tr>\n",
       "  </tbody>\n",
       "</table>\n",
       "</div>"
      ],
      "text/plain": [
       "       COUGH  MUSCLE_ACHES  TIREDNESS  SORE_THROAT  RUNNY_NOSE  STUFFY_NOSE   \n",
       "19453      1             0          0            0           1            1  \\\n",
       "19454      0             1          1            1           0            0   \n",
       "19455      0             0          0            1           1            1   \n",
       "19456      1             0          1            0           0            1   \n",
       "19457      1             1          1            1           1            0   \n",
       "\n",
       "       FEVER  NAUSEA  VOMITING  DIARRHEA  SHORTNESS_OF_BREATH   \n",
       "19453      1       0         0         0                    1  \\\n",
       "19454      1       0         0         0                    1   \n",
       "19455      0       0         0         0                    1   \n",
       "19456      0       1         1         0                    0   \n",
       "19457      1       0         0         1                    1   \n",
       "\n",
       "       DIFFICULTY_BREATHING  LOSS_OF_TASTE  LOSS_OF_SMELL  SNEEZING  SEVERITY  \n",
       "19453                     0              0              0         0         1  \n",
       "19454                     0              1              0         0         1  \n",
       "19455                     1              1              0         0         1  \n",
       "19456                     0              1              0         1         0  \n",
       "19457                     1              0              0         0         1  "
      ]
     },
     "execution_count": 15,
     "metadata": {},
     "output_type": "execute_result"
    }
   ],
   "source": [
    "from sklearn.tree import export_graphviz\n",
    "import pydotplus\n",
    "from io import StringIO\n",
    "dt = joblib.load('decision_tree_model.pkl')\n",
    "\n",
    "# Export the decision tree to a DOT file\n",
    "dot_data = StringIO()\n",
    "export_graphviz(dt, out_file=dot_data, \n",
    "    feature_names=symptoms,  \n",
    "    class_names=['0','1'], \n",
    "    special_characters=True, \n",
    "    rounded=True, \n",
    "    proportion=False,\n",
    "    filled=True)\n",
    "\n",
    "# export the decision tree to a png file\n",
    "graph = pydotplus.graph_from_dot_data(dot_data.getvalue())\n",
    "graph.write_png('decision_tree.png')\n",
    "df.head()\n"
   ]
  }
 ],
 "metadata": {
  "kernelspec": {
   "display_name": "Python 3 (ipykernel)",
   "language": "python",
   "name": "python3"
  },
  "language_info": {
   "codemirror_mode": {
    "name": "ipython",
    "version": 3
   },
   "file_extension": ".py",
   "mimetype": "text/x-python",
   "name": "python",
   "nbconvert_exporter": "python",
   "pygments_lexer": "ipython3",
   "version": "3.10.7"
  }
 },
 "nbformat": 4,
 "nbformat_minor": 4
}
