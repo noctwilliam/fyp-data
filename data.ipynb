{
 "cells": [
  {
   "cell_type": "markdown",
   "metadata": {},
   "source": [
    "## BE\n",
    "- [Kaggle](https://www.kaggle.com/datasets/walterconway/covid-flu-cold-symptoms/data)"
   ]
  },
  {
   "cell_type": "markdown",
   "metadata": {},
   "source": [
    "1. Data Preprocessing"
   ]
  },
  {
   "cell_type": "code",
   "execution_count": null,
   "metadata": {},
   "outputs": [],
   "source": [
    "# Import all the necessary libraries for data cleaning and machine learning algorithms (decision tree)\n",
    "import pandas as pd\n",
    "import numpy as np\n",
    "import matplotlib.pyplot as plt\n",
    "# import seaborn as sns\n",
    "from sklearn import tree\n",
    "from sklearn.tree import DecisionTreeClassifier\n",
    "from sklearn.model_selection import train_test_split\n",
    "from sklearn.metrics import confusion_matrix, classification_report, ConfusionMatrixDisplay\n",
    "import joblib as joblib"
   ]
  },
  {
   "cell_type": "markdown",
   "metadata": {},
   "source": [
    "Get rid of unnecessary rows and columns"
   ]
  },
  {
   "cell_type": "code",
   "execution_count": null,
   "metadata": {},
   "outputs": [],
   "source": [
    "df = pd.read_csv('large_data.csv')\n",
    "print(df['TYPE'].count())\n",
    "# Drop rows that are not type of FLU (eg. COVID-19, )\n",
    "df = df[df['TYPE'] == 'FLU']\n",
    "# Reset the index of DataFrame\n",
    "df = df.reset_index(drop=True)\n",
    "df.head()"
   ]
  },
  {
   "cell_type": "markdown",
   "metadata": {},
   "source": [
    "trimming whitespaces if theres any"
   ]
  },
  {
   "cell_type": "code",
   "execution_count": null,
   "metadata": {},
   "outputs": [],
   "source": [
    "# Trim the whitespaces in the column\n",
    "df.columns = df.columns.str.strip()\n",
    "df.info()"
   ]
  },
  {
   "cell_type": "markdown",
   "metadata": {},
   "source": [
    "checking missing values"
   ]
  },
  {
   "cell_type": "code",
   "execution_count": null,
   "metadata": {},
   "outputs": [],
   "source": [
    "df.isna().sum()"
   ]
  },
  {
   "cell_type": "markdown",
   "metadata": {},
   "source": [
    "counting & cleaning feature values"
   ]
  },
  {
   "cell_type": "code",
   "execution_count": null,
   "metadata": {},
   "outputs": [],
   "source": [
    "cols = df.columns\n",
    "\n",
    "for col in cols:\n",
    "\tprint(df[col].value_counts())\n",
    "\tprint(\"\")\n",
    "\n",
    "# Drop columns that are only zeros\n",
    "for col in cols:\n",
    "\t# If the count of the most frequentt value is equal to the length of the dataframe (25k), then drop the column\n",
    "\tif df[col].value_counts()[0] == len(df):\n",
    "\t\tdf.drop(col, axis=1, inplace=True)\n",
    "df.info()"
   ]
  },
  {
   "cell_type": "markdown",
   "metadata": {},
   "source": [
    "duplicates"
   ]
  },
  {
   "cell_type": "code",
   "execution_count": null,
   "metadata": {},
   "outputs": [],
   "source": [
    "df.duplicated().sum()\n",
    "df.duplicated().value_counts()\n",
    "df.info()\n",
    "\n",
    "# write all the column header to a txt file with newline delimiter\n",
    "with open('column_headers.txt', 'w') as f:\n",
    "\tfor col in df.columns:\n",
    "\t\tf.write(col + '\\n')"
   ]
  },
  {
   "cell_type": "markdown",
   "metadata": {},
   "source": [
    "create new column to fill in severity data"
   ]
  },
  {
   "cell_type": "code",
   "execution_count": null,
   "metadata": {},
   "outputs": [],
   "source": [
    "def classify_symptoms(row) -> int:\n",
    "    # Apply your classification rules to the row\n",
    "    if row['SHORTNESS_OF_BREATH'] == 1 or row['DIFFICULTY_BREATHING'] == 1:\n",
    "        return 1\n",
    "    else:\n",
    "        return 0\n",
    "\n",
    "# Create a new column 'SEVERITY' in the DataFrame 'df' using the 'apply()' method\n",
    "df['SEVERITY'] = df.apply(classify_symptoms, axis=1)\n",
    "df.info()\n"
   ]
  },
  {
   "cell_type": "code",
   "execution_count": null,
   "metadata": {},
   "outputs": [],
   "source": [
    "df['SEVERITY'].value_counts()\n",
    "df.head()"
   ]
  },
  {
   "cell_type": "markdown",
   "metadata": {},
   "source": [
    "save dataframe to csv"
   ]
  },
  {
   "cell_type": "code",
   "execution_count": null,
   "metadata": {},
   "outputs": [],
   "source": [
    "# save dataframe to csv file\n",
    "df.to_csv('cleaned_data.csv', index=False)"
   ]
  },
  {
   "cell_type": "markdown",
   "metadata": {},
   "source": [
    "correlation"
   ]
  },
  {
   "cell_type": "code",
   "execution_count": null,
   "metadata": {},
   "outputs": [],
   "source": [
    "# Ignore TYPE column\n",
    "df_corr = df.corr()\n",
    "df_corr\n",
    "df.info()"
   ]
  },
  {
   "cell_type": "markdown",
   "metadata": {},
   "source": [
    "Splitting and training the data (Decision Tree)"
   ]
  },
  {
   "cell_type": "code",
   "execution_count": null,
   "metadata": {},
   "outputs": [],
   "source": [
    "symptoms = [i for i in df.columns if i != 'SEVERITY']\n",
    "severity = ['SEVERITY']\n",
    "# Split the data into training and testing sets\n",
    "# 30% of the data will be used for testing\n",
    "X_train, X_test, y_train, y_test = train_test_split(df[symptoms], df[severity], test_size=0.2, random_state=42)\n",
    "\n",
    "# Create a Decision Tree Classifier object\n",
    "dt = DecisionTreeClassifier()\n",
    "\n",
    "# Train the model on the training set\n",
    "dt.fit(X_train, y_train)\n",
    "\n",
    "# Make predictions on the testing set\n",
    "y_pred = dt.predict(X_test)\n",
    "\n",
    "# create a function to evaluate the performance of the model hack\n",
    "def evaluate_model(y_true, y_pred):\n",
    "\t# Calculate and print confusion matrix plot\n",
    "\tdisp = ConfusionMatrixDisplay(confusion_matrix=confusion_matrix(y_true, y_pred))\n",
    "\tdisp.plot()\n",
    "\tplt.show()\n",
    "\t# Calculate and print the classification report\n",
    "\treport = classification_report(y_true, y_pred)\n",
    "\tprint(report)\n",
    "evaluate_model(y_test, y_pred)\n",
    "\n",
    "joblib.dump(dt, 'decision_tree_model.pkl')"
   ]
  },
  {
   "cell_type": "markdown",
   "metadata": {},
   "source": [
    "Training the data using Random Forest Classifier"
   ]
  },
  {
   "cell_type": "code",
   "execution_count": null,
   "metadata": {},
   "outputs": [],
   "source": [
    "# Train the data using random classifier from scikit\n",
    "from sklearn.ensemble import RandomForestClassifier\n",
    "rf = RandomForestClassifier(random_state=42)\n",
    "rf.fit(X_train, y_train.values.ravel())\n",
    "y_pred = rf.predict(X_test)\n",
    "evaluate_model(y_test, y_pred)\n",
    "print(f\"Accuracy: {rf.score(X_test, y_test)}\")"
   ]
  },
  {
   "cell_type": "markdown",
   "metadata": {},
   "source": [
    "Training the data using SVM"
   ]
  },
  {
   "cell_type": "code",
   "execution_count": null,
   "metadata": {},
   "outputs": [],
   "source": [
    "# Train the data using SVM from scikit\n",
    "from sklearn.svm import SVC\n",
    "svm = SVC(random_state=42)\n",
    "svm.fit(X_train, y_train.values.ravel())\n",
    "y_pred = svm.predict(X_test)\n",
    "evaluate_model(y_test, y_pred)\n",
    "print(f\"Accuracy: {svm.score(X_test, y_test)}\")"
   ]
  },
  {
   "cell_type": "code",
   "execution_count": null,
   "metadata": {},
   "outputs": [],
   "source": [
    "# Prepare your input data\n",
    "sym = [1, 0, 1, 0, 1, 1, 0, 1, 1, 0, 0, 0, 0, 0, 0]\n",
    "my_input = pd.DataFrame([sym], columns=symptoms)\n",
    "print(my_input)\n",
    "\n",
    "# Load the trained model\n",
    "model = joblib.load('decision_tree_model.pkl')\n",
    "\n",
    "# Make predictions on the input data\n",
    "y_pred = model.predict(my_input)\n",
    "\n",
    "# # Print the predicted label\n",
    "from sklearn import metrics\n",
    "print(\"Predicted label:\", y_pred[0])"
   ]
  },
  {
   "cell_type": "markdown",
   "metadata": {},
   "source": [
    "Cross-fold validation"
   ]
  },
  {
   "cell_type": "code",
   "execution_count": null,
   "metadata": {},
   "outputs": [],
   "source": [
    "from sklearn.model_selection import cross_val_score\n",
    "\n",
    "cv_amt = 10\n",
    "# Perform 20-fold cross-validation on decision tree (dt)\n",
    "dt_scores = cross_val_score(dt, df[symptoms], df[severity], cv=cv_amt, n_jobs=-1)\n",
    "rf_scores = cross_val_score(rf, df[symptoms], df[severity].values.ravel(), cv=cv_amt, n_jobs=-1)\n",
    "svm_scores = cross_val_score(svm, df[symptoms], df[severity].values.ravel(), cv=cv_amt, n_jobs=-1)\n",
    "\n",
    "# Print the average score and standard deviation\n",
    "scores = pd.DataFrame({'ML Techniques' : ['Decision Tree', 'Random Forest', 'SVM'], 'Score' : [dt_scores.mean(), rf_scores.mean(), svm_scores.mean()], 'Standard Deviation' : [dt_scores.std(), rf_scores.std(), svm_scores.std()]})\n",
    "print(scores.sort_values(by='Score', ascending=False))"
   ]
  },
  {
   "cell_type": "markdown",
   "metadata": {},
   "source": [
    "Export the decision tree to an image"
   ]
  },
  {
   "cell_type": "code",
   "execution_count": null,
   "metadata": {},
   "outputs": [],
   "source": [
    "from sklearn.tree import export_graphviz\n",
    "import pydotplus\n",
    "from io import StringIO\n",
    "dt = joblib.load('decision_tree_model.pkl')\n",
    "\n",
    "# Export the decision tree to a DOT file\n",
    "dot_data = StringIO()\n",
    "export_graphviz(dt, out_file=dot_data, \n",
    "    feature_names=symptoms,  \n",
    "    class_names=['0', '1'], \n",
    "    special_characters=True, \n",
    "    rounded=True, \n",
    "    proportion=False,\n",
    "    filled=True)\n",
    "\n",
    "# export the decision tree to a png file\n",
    "graph = pydotplus.graph_from_dot_data(dot_data.getvalue())\n",
    "graph.write_png('decision_tree.png')\n",
    "print(df['SEVERITY'].value_counts())"
   ]
  }
 ],
 "metadata": {
  "kernelspec": {
   "display_name": "Python 3 (ipykernel)",
   "language": "python",
   "name": "python3"
  },
  "language_info": {
   "codemirror_mode": {
    "name": "ipython",
    "version": 3
   },
   "file_extension": ".py",
   "mimetype": "text/x-python",
   "name": "python",
   "nbconvert_exporter": "python",
   "pygments_lexer": "ipython3",
   "version": "3.10.7"
  }
 },
 "nbformat": 4,
 "nbformat_minor": 4
}
